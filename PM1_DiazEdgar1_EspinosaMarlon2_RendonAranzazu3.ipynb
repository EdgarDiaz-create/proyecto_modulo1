{
 "cells": [
  {
   "cell_type": "markdown",
   "metadata": {},
   "source": [
    " # PROGRAMACION LINEAL"
   ]
  },
  {
   "cell_type": "markdown",
   "metadata": {},
   "source": [
    "Este es el primer proyecto de la clase de simulación matemática, el cuál se tratará sobre la programación lineal vista en clase."
   ]
  },
  {
   "cell_type": "markdown",
   "metadata": {},
   "source": [
    "## Objetivos"
   ]
  },
  {
   "cell_type": "markdown",
   "metadata": {},
   "source": [
    "### General\n",
    ">- El motivo por el cual se hace el trabajo es para perfeccionar los conocimientos adquiridos, y saber que existen aplicaciones de lo que se hace en clase, ya que son problemas de la vida real. Y saber llegar a la solución correcta del problema presentado en este documento.\n",
    "\n",
    "### Especificos \n",
    ">- Saber usar el comando linprog a la perfección.\n",
    ">- Plantear de forma correcta las funciones y restricciones.\n",
    ">- Comprender el problema.\n",
    ">- Llegar a la mejor solución de maximización o minimización."
   ]
  },
  {
   "cell_type": "markdown",
   "metadata": {},
   "source": [
    "## Problema del proyecto "
   ]
  },
  {
   "attachments": {},
   "cell_type": "markdown",
   "metadata": {},
   "source": [
    "+ La ciudad de Pisco estudia la factibilidad de utilizar un sistema de autobuses de transporte masiva para reducir el tráfico urbano. El estudio busca la cantidad mínima de autobuses que satisfaga las necesidades del transporte. Después de reunirla información necesaria, el Ing. de transito observó que se requería fluctuaba según la hora del día, y dicha cantidad se podía representar de forma aproximada por valores constantes durante intervalos de 4 horas sucesivos. Para realizar el mantenimiento diario requerido, cada autobús puede operar solo 8 horas continuas al día."
   ]
  },
  {
   "cell_type": "markdown",
   "metadata": {},
   "source": [
    "## Variables\n",
    "\n",
    ">- $x_1$ = Cantidad de Autobuses 12:01- 4:00\n",
    ">- $x_2$ = Cantidad de Autobuses 4:01 - 8:00\n",
    ">- $x_3$ = Cantidad de Autobuses 8:01 - 12:00\n",
    ">- $x_4$ = Cantidad de Autobuses 12:01 - 4:00\n",
    ">- $x_5$ = Cantidad de Autobuses 4:01 - 8:00\n",
    ">- $x_6$ = Cantidad de Autobuses 8:01 - 12:00"
   ]
  },
  {
   "cell_type": "markdown",
   "metadata": {},
   "source": [
    "## Función Objetivo\n",
    "\n",
    "min $x_1$ + $x_2$ + $x_3$ + $x_4$ + $x_5$ + $x_6$\n",
    ">- Solo se necesitan las variables de $x_1$ a $x_6$ ya que son las cantidades de camiones solo cambia la hora y en cada horario se debe llegar a lo menores autobuses posibles pero que cumplan con las restricciones que se muestran en el siguiente punto."
   ]
  },
  {
   "cell_type": "markdown",
   "metadata": {},
   "source": [
    "## Restricciones"
   ]
  },
  {
   "cell_type": "markdown",
   "metadata": {},
   "source": [
    ">- $x_6 + x_1 \geq 4   (12:01 - 4:00)$",
    ">- $x_1 + x_2 \geq 8   (4:01  - 8:00)$"
    ">- $x_2 + x_3 \geq 10  (8:01  - 12:00)$"
    ">- $x_3 + x_4 \geq 7   (12:01 - 4:00)$"
    ">- $x_4 + x_5 \geq 12  (4:01  - 8:00)$"
    ">- $x_5 + x_6 \geq 4   (8:01  - 12:00)$"
    ">- $x_1 , x_2 , x_3 , x_4 , x_5 , x_6 \geq 0$"
   ]
  },
  {
   "cell_type": "markdown",
   "metadata": {},
   "source": [
    ">- La primera restricción es porque en los hallazgos del ingeniero entre las 12:01 - 4:00 verificó que pasaban 4 camiones siendo asi la demanda.\n",
    ">- La segunda restricción es porque en los hallazgos del ingeniero entre las 4:01 - 8:00 verificó que pasaban 8 camiones.\n",
    ">- La tercera restricción es porque en los hallazgos del ingeniero entre las 8:01 - 12:00 verificó que pasaban 10 camiones.\n",
    ">- La cuarta restricción es porque en los hallazgos del ingeniero entre las 12:01 - 4:00 verificó que pasaban 7 camiones.\n",
    ">- La quinta restricción es porque en los hallazgos del ingeniero entre las 4:01 - 8:00 verificó que pasaban 12 camiones.\n",
    ">- La sexta restricción es porque en los hallazgos del ingeniero entre las 8:01 - 12:00 verificó que pasaban 4 camiones.\n",
    ">- La suma de $x_n$ + $x_(n+1)$ debe de ser igual o mayor a los estudios que encontró el ingenierio."
   ]
  },
  {
   "cell_type": "markdown",
   "metadata": {},
   "source": [
    "## Constantes que aparecen en el modelo"
   ]
  },
  {
   "cell_type": "markdown",
   "metadata": {},
   "source": [
    ">- 4 cantidad de camiones entre (12:01 - 4:00) que es la demanda.\n",
    ">- 8 cantidad de camiones entre (4:01 - 8:00) que es la demanda.\n",
    ">- 10 cantidad de camiones entre (8:01 - 12:00) que es la demanda.\n",
    ">- 7 cantidad de camiones entre (12:01 - 4:00) que es la demanda.\n",
    ">- 12 cantidad de camiones entre (4:01 - 8:00) que es la demanda.\n",
    ">- 4 cantidad de camiones entre (8:01 - 12:00) que es la demanda."
   ]
  },
  {
   "cell_type": "markdown",
   "metadata": {},
   "source": [
    "## Solución del problema de optimización"
   ]
  },
  {
   "cell_type": "markdown",
   "metadata": {},
   "source": [
    "min $x_1$ + $x_2$ + $x_3$ + $x_4$ + $x_5$ + $x_6$\n",
    "\n",
    "s.a\n",
    "\n",
    ">- $x_6$ + $x_1$ >= 4   (12:01 - 4:00)\n",
    ">- $x_1$ + $x_2$ >= 8   (4:01  - 8:00)\n",
    ">- $x_2$ + $x_3$ >= 10  (8:01  - 12:00)\n",
    ">- $x_3$ + $x_4$ >= 7   (12:01 - 4:00)\n",
    ">- $x_4$ + $x_5$ >= 12  (4:01  - 8:00)\n",
    ">- $x_5$ + $x_6$ >= 4   (8:01  - 12:00)\n",
    ">- $x_1$ , $x_2$ , $x_3$ , $x_4$ , $x_5$ , $x_6$ >= 0"
   ]
  },
  {
   "cell_type": "markdown",
   "metadata": {},
   "source": [
    "**Ahora de forma matricial:**\n",
    "\n",
    "min [$x_1$ , $x_2$ , $x_3$ , $x_4$ , $x_5$ , $x_6$]\n",
    "\n",
    "s.a\n",
    "\n",
    "\n",
    "[[1 0 0 0 0 1],\n",
    "[1 1 0 0 0 0], \n",
    "[0 1 1 0 0 0], \n",
    "[0 0 1 1 0 0], \n",
    "[0 0 0 1 1 0],\n",
    "[0 0 0 0 1 1]]  [$x_1$ , $x_2$ , $x_3$ , $x_4$ , $x_5$ , $x_6$] >= [4 8 10 7 12 4]\n"
   ]
  },
  {
   "cell_type": "code",
   "execution_count": 75,
   "metadata": {},
   "outputs": [],
   "source": [
    "#Importar librerias\n",
    "import scipy.optimize as sp\n",
    "import numpy as np\n",
    "import matplotlib.pyplot as plt\n",
    "%matplotlib inline\n"
   ]
  },
  {
   "cell_type": "code",
   "execution_count": 76,
   "metadata": {},
   "outputs": [],
   "source": [
    "#Matrices y Vectores\n",
    "c = np.array([1,1,1,1,1,1])\n",
    "A = np.array ([[-1,0,0,0,0,-1],\n",
    "               [-1,-1,0,0,0,0], \n",
    "               [0,-1,-1,0,0,0], \n",
    "               [0,0,-1,-1,0,0], \n",
    "               [0,0,0,-1,-1,0],\n",
    "               [0,0,0,0,-1,-1]]) \n",
    "b = np.array([-4,-8,-10,-7,-12,-4])"
   ]
  },
  {
   "cell_type": "code",
   "execution_count": 77,
   "metadata": {},
   "outputs": [
    {
     "name": "stdout",
     "output_type": "stream",
     "text": [
      "     con: array([], dtype=float64)\n",
      "     fun: 25.999999515780914\n",
      " message: 'Optimization terminated successfully.'\n",
      "     nit: 4\n",
      "   slack: array([-6.70094198e-08,  1.93238823e+00, -2.32314051e-07,  2.49446166e+00,\n",
      "       -1.84895615e-07,  2.57314963e+00])\n",
      "  status: 0\n",
      " success: True\n",
      "       x: array([2.23593566, 7.69645256, 2.3035472 , 7.19091445, 4.80908536,\n",
      "       1.76406427])\n"
     ]
    }
   ],
   "source": [
    "#Resolver\n",
    "sol_1 = sp.linprog(c,A_ub=A,b_ub=b)\n",
    "print(sol_1)"
   ]
  },
  {
   "cell_type": "code",
   "execution_count": 79,
   "metadata": {},
   "outputs": [
    {
     "name": "stdout",
     "output_type": "stream",
     "text": [
      "x_1 es igual a 2.235935662733611 autobuses\n",
      "x_2 es igual a 7.696452564897454 autobuses\n",
      "x_3 es igual a 2.303547202788495 autobuses\n",
      "x_4 es igual a 7.190914453958767 autobuses\n",
      "x_5 es igual a 4.809085361145617 autobuses\n",
      "x_6 es igual a 1.764064270256969 autobuses\n"
     ]
    }
   ],
   "source": [
    "#Resultados\n",
    "print(\"x_1 es igual a {} autobuses\".format(sol_1.x[0]))\n",
    "print(\"x_2 es igual a {} autobuses\".format(sol_1.x[1]))\n",
    "print(\"x_3 es igual a {} autobuses\".format(sol_1.x[2]))\n",
    "print(\"x_4 es igual a {} autobuses\".format(sol_1.x[3]))\n",
    "print(\"x_5 es igual a {} autobuses\".format(sol_1.x[4]))\n",
    "print(\"x_6 es igual a {} autobuses\".format(sol_1.x[5]))"
   ]
  },
  {
   "cell_type": "markdown",
   "metadata": {},
   "source": [
    "La cantidad mínima de autobuses que satisface las necesidades de transporte es de **26** en total."
   ]
  },
  {
   "cell_type": "markdown",
   "metadata": {},
   "source": [
    "## ¿Condujo el algoritmo de optimización a una solución factible?"
   ]
  },
  {
   "cell_type": "markdown",
   "metadata": {},
   "source": [
    "Sí, ya que se optimizó de manera correcta la función y se redujo de 45 camiones que circulaban a tan solo 26 y sigue cumpliendo con las necesidades que pide el problema."
   ]
  },
  {
   "cell_type": "markdown",
   "metadata": {},
   "source": [
    "## Conclusiones"
   ]
  },
  {
   "cell_type": "markdown",
   "metadata": {},
   "source": [
    "Como conclusión, se quiere tomar en cuneta que se cumplió con los objetivos de este proyecto, los cuales eran obtener el resultado más óptimo posible y saber desarrollar este tipo de problemas de programación lineal en la plataforma. A pesar de las dificultades se pudo llegar al resultado esperado."
   ]
  },
  {
   "cell_type": "markdown",
   "metadata": {},
   "source": [
    "## Referencias"
   ]
  },
  {
   "cell_type": "markdown",
   "metadata": {},
   "source": [
    "Unknown. (2014). Planificación de la Mano de Obra. Blogspot. Recuperado de:\n",
    "\n",
    "        http://uapdanielaescalante.blogspot.com/2014/09/planificacion-de-la-mano-de-obra.html"
   ]
  },
  {
   "cell_type": "code",
   "execution_count": null,
   "metadata": {},
   "outputs": [],
   "source": []
  }
 ],
 "metadata": {
  "kernelspec": {
   "display_name": "Python 3",
   "language": "python",
   "name": "python3"
  },
  "language_info": {
   "codemirror_mode": {
    "name": "ipython",
    "version": 3
   },
   "file_extension": ".py",
   "mimetype": "text/x-python",
   "name": "python",
   "nbconvert_exporter": "python",
   "pygments_lexer": "ipython3",
   "version": "3.7.4"
  }
 },
 "nbformat": 4,
 "nbformat_minor": 2
}
